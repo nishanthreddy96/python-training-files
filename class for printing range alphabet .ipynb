{
 "cells": [
  {
   "cell_type": "code",
   "execution_count": 40,
   "metadata": {},
   "outputs": [
    {
     "name": "stdout",
     "output_type": "stream",
     "text": [
      "enter no of lines of pattern7\n",
      "enter length of pattern4\n",
      "\n",
      "*\n",
      "**\n",
      "***\n",
      "****\n",
      "*****\n",
      "******\n"
     ]
    }
   ],
   "source": [
    "n = int(input(\"enter no of lines of pattern\"))\n",
    "p = int(input(\"enter length of pattern\"))\n",
    "for i in range(n):\n",
    "    for j in range(i):\n",
    "        print(\"*\", end= '')   \n",
    "    print()"
   ]
  },
  {
   "cell_type": "markdown",
   "metadata": {},
   "source": [
    "class\n"
   ]
  },
  {
   "cell_type": "code",
   "execution_count": 5,
   "metadata": {},
   "outputs": [
    {
     "name": "stdout",
     "output_type": "stream",
     "text": [
      "enter 1 to print sequence of alphabets by size \n",
      "enter 2 to print 'custom range' of alphabet\n",
      "None2\n",
      "enter a number to print the starting number 300\n",
      "enter a number to print maximum of alphabets350\n",
      "ɘ ə ɚ ɛ ɜ ɝ ɞ ɟ ɠ ɡ ɢ ɣ ɤ ɥ ɦ ɧ ɨ ɩ ɪ ɫ ɬ ɭ ɮ ɯ ɰ ɱ ɲ ɳ ɴ ɵ ɶ ɷ ɸ ɹ ɺ ɻ ɼ ɽ ɾ ɿ ʀ ʁ ʂ ʃ ʄ ʅ ʆ ʇ ʈ ʉ ʊ \n"
     ]
    }
   ],
   "source": [
    "class pattern:\n",
    "    \n",
    "    def __init__(self,n,p,l):\n",
    "        self.n = n\n",
    "        self.p = p\n",
    "        self.l = l\n",
    "    \n",
    "    def alphabets(self):\n",
    "        n = int(input(\"enter a number to print the sequence of alphabets \"))\n",
    "        for i in range(1,n+1):\n",
    "            print(chr(64+i), end= ' ')\n",
    "        print()\n",
    "    def alphabet_range(self):\n",
    "        n = int(input(\"enter a number to print the starting number \"))\n",
    "        l = int(input(\"enter a number to print maximum of alphabets\"))\n",
    "        for i in range(n,l+1):\n",
    "            print(chr(n+i), end= ' ')\n",
    "        print()\n",
    "        \n",
    "        \n",
    "pattern_object = pattern(100,200,300)\n",
    "in_one = int(input(print(\"enter 1 to print sequence of alphabets by size \\nenter 2 to print 'custom range' of alphabet\")))\n",
    "if in_one == 1:\n",
    "    pattern_object.alphabets()\n",
    "elif in_one == 2:\n",
    "    pattern_object.alphabet_range()\n",
    "else:\n",
    "    print(\"enter valid input\")"
   ]
  },
  {
   "cell_type": "code",
   "execution_count": null,
   "metadata": {},
   "outputs": [],
   "source": []
  }
 ],
 "metadata": {
  "kernelspec": {
   "display_name": "Python 3",
   "language": "python",
   "name": "python3"
  },
  "language_info": {
   "codemirror_mode": {
    "name": "ipython",
    "version": 3
   },
   "file_extension": ".py",
   "mimetype": "text/x-python",
   "name": "python",
   "nbconvert_exporter": "python",
   "pygments_lexer": "ipython3",
   "version": "3.7.3"
  }
 },
 "nbformat": 4,
 "nbformat_minor": 2
}
