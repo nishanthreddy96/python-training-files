{
 "cells": [
  {
   "cell_type": "code",
   "execution_count": 6,
   "metadata": {},
   "outputs": [
    {
     "name": "stdout",
     "output_type": "stream",
     "text": [
      "sin and addition value will be same\n",
      "enter any two numbers to print addition(also takes sin) and subtracted values 1,4\n",
      "enter a number to print its tan value1\n",
      "The sum is  5\n",
      "\n",
      "The subtracted value is  -3\n",
      "The tan value is  1.5574077246549023\n",
      "\n",
      "the sin value is  0.8414709848078965\n"
     ]
    }
   ],
   "source": [
    "import numpy as np\n",
    "flag = True\n",
    "class impla:\n",
    "    \n",
    "    def __init__(self,in_val,in_va2):\n",
    "        self.in_val = in_val\n",
    "        self.in_val2 = in_val2\n",
    "        \n",
    "        \n",
    "    def mano(self,in_val,in_val2):\n",
    "        print(\"The sum is \",np.add(in_val, in_val2))\n",
    "        \n",
    "    def wemeno(self,in_val,in_val2):\n",
    "        print(\"The subtracted value is \",np.subtract(in_val,in_val2))\n",
    "        \n",
    "class trignometric_cal:\n",
    "    \n",
    "    def __init__(self,in_tan,in_val):\n",
    "        self.in_tan = in_tan\n",
    "        self.in_val = in_val\n",
    "\n",
    "    def tan_call(self,in_tan):\n",
    "        print(\"The tan value is \", np.tan(in_tan))\n",
    "    \n",
    "    def sin_call(self,in_val):\n",
    "        print(\"the sin value is \",np.sin(in_val))\n",
    "print(\"sin and addition value will be same\")\n",
    "while flag == True:\n",
    "    try: \n",
    "        in_val, in_val2 = [int(x) for x in input(\"enter any two numbers to print addition(also takes sin) and subtracted values \").split(',')]\n",
    "        in_tan = int(input(\"enter a number to print its tan value\"))\n",
    "        flag = False\n",
    "\n",
    "    except ValueError:\n",
    "        print(\"enter only integer values NO DECIMALS\")\n",
    "        flag = True  \n",
    "        \n",
    "impla_obj = impla(in_val,in_val2)\n",
    "\n",
    "#calling methods of a class impla\n",
    "impla_obj.mano(in_val,in_val2)\n",
    "print()\n",
    "impla_obj.wemeno(in_val,in_val2)\n",
    "\n",
    "#calling methods of a class trignometric_call\n",
    "trigno_obj = trignometric_cal(in_tan,in_val)\n",
    "trigno_obj.tan_call(in_tan)\n",
    "print()\n",
    "trigno_obj.sin_call(in_val)\n",
    "\n"
   ]
  },
  {
   "cell_type": "code",
   "execution_count": null,
   "metadata": {},
   "outputs": [],
   "source": []
  }
 ],
 "metadata": {
  "kernelspec": {
   "display_name": "Python 3",
   "language": "python",
   "name": "python3"
  },
  "language_info": {
   "codemirror_mode": {
    "name": "ipython",
    "version": 3
   },
   "file_extension": ".py",
   "mimetype": "text/x-python",
   "name": "python",
   "nbconvert_exporter": "python",
   "pygments_lexer": "ipython3",
   "version": "3.7.3"
  }
 },
 "nbformat": 4,
 "nbformat_minor": 2
}
