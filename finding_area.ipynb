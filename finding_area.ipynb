{
 "cells": [
  {
   "cell_type": "code",
   "execution_count": 7,
   "metadata": {},
   "outputs": [
    {
     "name": "stdout",
     "output_type": "stream",
     "text": [
      "enter length of object to find the area\n",
      "None9\n",
      "enter breadth of object to find the area\n",
      "None0\n",
      "the area of square is 81\n"
     ]
    }
   ],
   "source": [
    "class areas:\n",
    "    \n",
    "    def __init__(self,l,b):\n",
    "        self.l = l\n",
    "        self.b = b\n",
    "        \n",
    "    def rectangle(self,l,b):\n",
    "        a = l * b\n",
    "        print(\"the area of rectangle is {}\".format(a))\n",
    "    \n",
    "    def square(self,l):\n",
    "        s = l * l\n",
    "        print(\"the area of square is {}\".format(s))\n",
    "        \n",
    "l = int(input(print(\"enter length of object to find the area\")))\n",
    "b = int(input(print(\"enter breadth of object to find the area\")))\n",
    "\n",
    "\n",
    "#object creation for class\n",
    "area_obj = areas(l,b)\n",
    "\n",
    "if l == b or b==0:\n",
    "    area_obj.square(l)\n",
    "else:\n",
    "    area_obj.rectangle(l,b)"
   ]
  },
  {
   "cell_type": "code",
   "execution_count": null,
   "metadata": {},
   "outputs": [],
   "source": []
  }
 ],
 "metadata": {
  "kernelspec": {
   "display_name": "Python 3",
   "language": "python",
   "name": "python3"
  },
  "language_info": {
   "codemirror_mode": {
    "name": "ipython",
    "version": 3
   },
   "file_extension": ".py",
   "mimetype": "text/x-python",
   "name": "python",
   "nbconvert_exporter": "python",
   "pygments_lexer": "ipython3",
   "version": "3.7.3"
  }
 },
 "nbformat": 4,
 "nbformat_minor": 2
}
