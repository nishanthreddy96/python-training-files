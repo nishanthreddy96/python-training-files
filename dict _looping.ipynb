{
 "cells": [
  {
   "cell_type": "code",
   "execution_count": 18,
   "metadata": {},
   "outputs": [
    {
     "name": "stdout",
     "output_type": "stream",
     "text": [
      " \n",
      " key : primary\n",
      " \n",
      " key : secodary\n",
      " \n",
      " key : optional\n"
     ]
    }
   ],
   "source": [
    "gadgets = {'primary': 'lightweight','secodary':'heavy weight','optional':'throwables',\n",
    "          }\n",
    "for keys in gadgets.keys():\n",
    "    print(\" \\n key : {}\".format(keys))"
   ]
  },
  {
   "cell_type": "code",
   "execution_count": 2,
   "metadata": {},
   "outputs": [
    {
     "name": "stdout",
     "output_type": "stream",
     "text": [
      "\n",
      " key :primary\n",
      " value:lightweight\n",
      "\n",
      " key :secodary\n",
      " value:heavy weight\n",
      "\n",
      " key :optional\n",
      " value:throwables\n"
     ]
    }
   ],
   "source": [
    "gadgets = {'primary': 'lightweight','secodary':'heavy weight','optional':'throwables',\n",
    "          }\n",
    "for key,value in gadgets.items():\n",
    "    print(\"\\n key :{}\".format(key))\n",
    "    print(\" value:{}\".format(value))"
   ]
  },
  {
   "cell_type": "code",
   "execution_count": 12,
   "metadata": {},
   "outputs": [
    {
     "name": "stdout",
     "output_type": "stream",
     "text": [
      " \n",
      " values : lightweight\n",
      " \n",
      " values : heavy weight\n",
      " \n",
      " values : throwables\n"
     ]
    }
   ],
   "source": [
    "gadgets = {'primary': 'lightweight','secodary':'heavy weight','optional':'throwables',\n",
    "          }\n",
    "for values in gadgets.values():\n",
    "    print(\" \\n values : {}\".format(values))"
   ]
  }
 ],
 "metadata": {
  "kernelspec": {
   "display_name": "Python 3",
   "language": "python",
   "name": "python3"
  },
  "language_info": {
   "codemirror_mode": {
    "name": "ipython",
    "version": 3
   },
   "file_extension": ".py",
   "mimetype": "text/x-python",
   "name": "python",
   "nbconvert_exporter": "python",
   "pygments_lexer": "ipython3",
   "version": "3.7.3"
  }
 },
 "nbformat": 4,
 "nbformat_minor": 2
}
