{
 "cells": [
  {
   "cell_type": "code",
   "execution_count": 5,
   "metadata": {
    "scrolled": true
   },
   "outputs": [
    {
     "name": "stdout",
     "output_type": "stream",
     "text": [
      "enter limit of numbers to ne printed20\n",
      "enter first reshape values2\n",
      "enter second reshape values10\n",
      "\n",
      "[[ 0  1  2  3  4  5  6  7  8  9]\n",
      " [10 11 12 13 14 15 16 17 18 19]]\n"
     ]
    }
   ],
   "source": [
    "import numpy as np\n",
    "arange_value = int(input(\"enter limit of numbers to ne printed\"))\n",
    "reshape_first = int(input(\"enter first reshape values\"))\n",
    "reshape_second = int(input(\"enter second reshape values\"))\n",
    "print()\n",
    "try :\n",
    "    print(np.arange(arange_value).reshape(reshape_first,reshape_second))\n",
    "\n",
    "except ValueError:\n",
    "    print(\"please check arange and reshape values\")"
   ]
  },
  {
   "cell_type": "code",
   "execution_count": null,
   "metadata": {},
   "outputs": [],
   "source": []
  },
  {
   "cell_type": "code",
   "execution_count": null,
   "metadata": {},
   "outputs": [
    {
     "name": "stdout",
     "output_type": "stream",
     "text": [
      "enter 1 for addition and 2 for subtraction4\n",
      "enter either 1 or 2\n",
      "enter 1 for addition and 2 for subtraction5\n",
      "enter either 1 or 2\n",
      "enter 1 for addition and 2 for subtraction6\n",
      "enter either 1 or 2\n",
      "enter 1 for addition and 2 for subtraction1\n",
      "enter two values4,5\n",
      "first number 4\n",
      "second number 5\n",
      "the sum value is 9\n",
      "enter 1 for addition and 2 for subtraction2\n",
      "enter two values4,4\n",
      "first number 4\n",
      "second number 4\n",
      "the subtracted value is 0\n"
     ]
    }
   ],
   "source": [
    "# Calculator program using Numpy Library\n",
    "import numpy as np\n",
    "\n",
    "def add():\n",
    "    print(\"the sum value is\",np.add(x,y))\n",
    "    \n",
    "def sub():\n",
    "    print(\"the subtracted value is\",np.subtract(x,y))\n",
    "\n",
    "while True:\n",
    "    c = int(input(\"enter 1 for addition and 2 for subtraction\"))\n",
    "    if c == 1 or c == 2:\n",
    "        x,y = [int(x) for x in input(\"enter two values\").split(',')]\n",
    "        print(\"first number\",x)\n",
    "        print(\"second number\",y)\n",
    "    if c == 1:\n",
    "        add()\n",
    "    elif c == 2:\n",
    "        sub()\n",
    "    else:\n",
    "        print(\"enter either 1 or 2\")\n",
    "    "
   ]
  },
  {
   "cell_type": "code",
   "execution_count": null,
   "metadata": {},
   "outputs": [],
   "source": []
  }
 ],
 "metadata": {
  "kernelspec": {
   "display_name": "Python 3",
   "language": "python",
   "name": "python3"
  },
  "language_info": {
   "codemirror_mode": {
    "name": "ipython",
    "version": 3
   },
   "file_extension": ".py",
   "mimetype": "text/x-python",
   "name": "python",
   "nbconvert_exporter": "python",
   "pygments_lexer": "ipython3",
   "version": "3.7.3"
  }
 },
 "nbformat": 4,
 "nbformat_minor": 2
}
