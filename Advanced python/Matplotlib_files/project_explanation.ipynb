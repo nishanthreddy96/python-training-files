{
 "cells": [
  {
   "cell_type": "code",
   "execution_count": null,
   "metadata": {},
   "outputs": [],
   "source": [
    "1. agile frameworks...used for python.....scrum calls...........30 mins in each\n",
    "\n",
    "2. Scrum master ........... overall looking guy\n",
    "\n",
    "3. JIRA Board...JIRA stories.....sprints......tracking our work on daily basis\n",
    "\n",
    "JIRA number assigned works for 2 weeks\n",
    "\n",
    "each day needs to be explained\n",
    "\n"
   ]
  }
 ],
 "metadata": {
  "kernelspec": {
   "display_name": "Python 3",
   "language": "python",
   "name": "python3"
  },
  "language_info": {
   "codemirror_mode": {
    "name": "ipython",
    "version": 3
   },
   "file_extension": ".py",
   "mimetype": "text/x-python",
   "name": "python",
   "nbconvert_exporter": "python",
   "pygments_lexer": "ipython3",
   "version": "3.7.3"
  }
 },
 "nbformat": 4,
 "nbformat_minor": 2
}
