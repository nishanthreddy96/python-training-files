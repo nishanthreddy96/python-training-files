{
 "cells": [
  {
   "cell_type": "code",
   "execution_count": 16,
   "metadata": {},
   "outputs": [
    {
     "name": "stdout",
     "output_type": "stream",
     "text": [
      "original \n",
      "after rounding\n",
      "[11. 22. 52. 18.  6.]\n",
      "\n",
      "Rounding decimals to 1\n",
      "[11.1 21.6 51.7 18.4  6.5]\n",
      "\n",
      "Rounding number to its nearest multiples of 10\n",
      "[10. 20. 50. 20. 10.]\n"
     ]
    }
   ],
   "source": [
    "import numpy as np\n",
    "\n",
    "in_round = np.array([11.1, 21.55,51.67,18.382,6.5])\n",
    "print(\"original \")\n",
    "in_round\n",
    "\n",
    "print(\"after rounding\")\n",
    "\n",
    "print(np.around(in_round))\n",
    "print()\n",
    "print(\"Rounding decimals to 1\")\n",
    "print(np.around(in_round,  decimals = 1))\n",
    "print()\n",
    "print(\"Rounding number to its nearest multiples of 10\")\n",
    "print(np.around(in_round,  decimals = -1))"
   ]
  },
  {
   "cell_type": "code",
   "execution_count": 22,
   "metadata": {},
   "outputs": [
    {
     "name": "stdout",
     "output_type": "stream",
     "text": [
      "original values\n",
      "[ 1.5  -1.5   2.45 -2.45  3.89 -3.89]\n",
      "\n",
      "floored values\n",
      "[ 1. -2.  2. -3.  3. -4.]\n",
      "\n",
      "ceil values\n",
      "[ 2. -1.  3. -2.  4. -3.]\n"
     ]
    }
   ],
   "source": [
    "# Short program on floor and ceil\n",
    "\n",
    "import numpy as np\n",
    "\n",
    "in_val = np.array([1.5,-1.5,2.45,-2.45,3.89,-3.89])\n",
    "\n",
    "print('original values')\n",
    "print(in_val)\n",
    "print()\n",
    "print('floored values')\n",
    "print(np.floor(in_val))\n",
    "print()\n",
    "print('ceil values')\n",
    "print(np.ceil(in_val))"
   ]
  },
  {
   "cell_type": "code",
   "execution_count": 28,
   "metadata": {},
   "outputs": [
    {
     "name": "stdout",
     "output_type": "stream",
     "text": [
      "first array\n",
      "[[0. 1. 2.]\n",
      " [3. 4. 5.]\n",
      " [6. 7. 8.]]\n",
      "\n",
      "second array\n",
      "[10 10 10]\n",
      "\n",
      "adding 2 arrays\n",
      "[[10. 11. 12.]\n",
      " [13. 14. 15.]\n",
      " [16. 17. 18.]]\n",
      "\n",
      "subtracting 2 arrays\n",
      "[[-10.  -9.  -8.]\n",
      " [ -7.  -6.  -5.]\n",
      " [ -4.  -3.  -2.]]\n",
      "\n",
      "multiplying 2 arrays\n",
      "[[ 0. 10. 20.]\n",
      " [30. 40. 50.]\n",
      " [60. 70. 80.]]\n",
      "\n",
      "dividing 2 arrays\n",
      "[[0.  0.1 0.2]\n",
      " [0.3 0.4 0.5]\n",
      " [0.6 0.7 0.8]]\n"
     ]
    }
   ],
   "source": [
    "# calculator using numpy\n",
    "\n",
    "import numpy as np\n",
    "\n",
    "in_val = np.arange(9,dtype = np.float).reshape(3,3)\n",
    "\n",
    "print('first array')\n",
    "print(in_val)\n",
    "print()\n",
    "print('second array')\n",
    "sub = np.array([10,10,10])\n",
    "print(sub)\n",
    "print()\n",
    "print(\"adding 2 arrays\")\n",
    "print(np.add(in_val,sub))\n",
    "print()\n",
    "print(\"subtracting 2 arrays\")\n",
    "print(np.subtract(in_val,sub))\n",
    "print()\n",
    "print(\"multiplying 2 arrays\")\n",
    "print(np.multiply(in_val,sub))\n",
    "print()\n",
    "print(\"dividing 2 arrays\")\n",
    "print(np.divide(in_val,sub))"
   ]
  },
  {
   "cell_type": "code",
   "execution_count": null,
   "metadata": {},
   "outputs": [],
   "source": []
  }
 ],
 "metadata": {
  "kernelspec": {
   "display_name": "Python 3",
   "language": "python",
   "name": "python3"
  },
  "language_info": {
   "codemirror_mode": {
    "name": "ipython",
    "version": 3
   },
   "file_extension": ".py",
   "mimetype": "text/x-python",
   "name": "python",
   "nbconvert_exporter": "python",
   "pygments_lexer": "ipython3",
   "version": "3.7.3"
  }
 },
 "nbformat": 4,
 "nbformat_minor": 2
}
