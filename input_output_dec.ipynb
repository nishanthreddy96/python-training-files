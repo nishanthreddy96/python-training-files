{
 "cells": [
  {
   "cell_type": "code",
   "execution_count": 1,
   "metadata": {},
   "outputs": [
    {
     "name": "stdout",
     "output_type": "stream",
     "text": [
      "enter set of integer numbers only1 2  3 4\n",
      "1 2  3 4"
     ]
    }
   ],
   "source": [
    "inp_var = input(\"enter set of integer numbers only\")\n",
    "for x in inp_var:\n",
    "    print(x,end='')"
   ]
  },
  {
   "cell_type": "code",
   "execution_count": null,
   "metadata": {},
   "outputs": [],
   "source": [
    "#inp_var = input(\"enter 1st sequence integers only\")\n",
    "#inp_char = input(\"enter 2nd sequence integers only\")\n",
    "#while inp_var in inp_char:\n",
    "#    print(\"\")"
   ]
  },
  {
   "cell_type": "code",
   "execution_count": 6,
   "metadata": {
    "scrolled": true
   },
   "outputs": [
    {
     "name": "stdout",
     "output_type": "stream",
     "text": [
      "enter a value or a variable with quotations4.5\n",
      "4.5\n",
      "<class 'float'>\n"
     ]
    }
   ],
   "source": [
    "inp_var = eval(input(\"enter a value or a variable with quotations\"))\n",
    "print(inp_var)\n",
    "print(type(inp_var))"
   ]
  },
  {
   "cell_type": "code",
   "execution_count": 35,
   "metadata": {},
   "outputs": [
    {
     "name": "stdout",
     "output_type": "stream",
     "text": [
      "enter a number to check a whether it is seven or not 85\n",
      "85 is odd number\n"
     ]
    }
   ],
   "source": [
    "inp_nam = eval(input(\"enter a number to check a whether it is seven or not \"))\n",
    "if inp_nam%2 ==0:\n",
    "    print(\"{} is even number \".format(inp_nam))\n",
    "elif inp_nam%2!=0:\n",
    "    print(\"{} is odd number\".format(inp_nam))\n",
    "else:\n",
    "    print(\"enter valid values\")"
   ]
  },
  {
   "cell_type": "code",
   "execution_count": null,
   "metadata": {},
   "outputs": [],
   "source": []
  },
  {
   "cell_type": "code",
   "execution_count": null,
   "metadata": {},
   "outputs": [],
   "source": []
  }
 ],
 "metadata": {
  "kernelspec": {
   "display_name": "Python 3",
   "language": "python",
   "name": "python3"
  },
  "language_info": {
   "codemirror_mode": {
    "name": "ipython",
    "version": 3
   },
   "file_extension": ".py",
   "mimetype": "text/x-python",
   "name": "python",
   "nbconvert_exporter": "python",
   "pygments_lexer": "ipython3",
   "version": "3.7.3"
  }
 },
 "nbformat": 4,
 "nbformat_minor": 2
}
