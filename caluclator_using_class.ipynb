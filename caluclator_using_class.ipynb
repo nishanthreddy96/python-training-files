{
 "cells": [
  {
   "cell_type": "code",
   "execution_count": 2,
   "metadata": {},
   "outputs": [
    {
     "name": "stdout",
     "output_type": "stream",
     "text": [
      "the addition of given numbers 5 and 8 is 13\n",
      "the subtraction of given numbers 10 and 4 is 6\n",
      "the multiplication of given numbers 10 and 3 is 30\n",
      "the division of given numbers 1 and 9 is 0.1111111111111111\n"
     ]
    }
   ],
   "source": [
    "class calculator:\n",
    "    \n",
    "    def __int__(self,a,b):\n",
    "        self.a = a\n",
    "        self.b = b\n",
    "        \n",
    "    def addition(self,a,b):\n",
    "        print(\"the addition of given numbers {} and {} is {}\".format(a,b,(a+b)))\n",
    "\n",
    "    def subtraction(self,a,b):\n",
    "        print(\"the subtraction of given numbers {} and {} is {}\".format(a,b,(a-b)))\n",
    "\n",
    "    def multi(self,a,b):\n",
    "        print(\"the multiplication of given numbers {} and {} is {}\".format(a,b,(a*b)))\n",
    "    \n",
    "    def division(self,a,b):\n",
    "        print(\"the division of given numbers {} and {} is {}\".format(a,b,(a/b)))\n",
    "\n",
    "\n",
    "class_obj = calculator()\n",
    "class_obj.addition(5,8)\n",
    "class_obj.subtraction(10,4)\n",
    "class_obj.multi(10,3)\n",
    "class_obj.division(1,9)"
   ]
  },
  {
   "cell_type": "code",
   "execution_count": null,
   "metadata": {},
   "outputs": [],
   "source": []
  }
 ],
 "metadata": {
  "kernelspec": {
   "display_name": "Python 3",
   "language": "python",
   "name": "python3"
  },
  "language_info": {
   "codemirror_mode": {
    "name": "ipython",
    "version": 3
   },
   "file_extension": ".py",
   "mimetype": "text/x-python",
   "name": "python",
   "nbconvert_exporter": "python",
   "pygments_lexer": "ipython3",
   "version": "3.7.3"
  }
 },
 "nbformat": 4,
 "nbformat_minor": 2
}
