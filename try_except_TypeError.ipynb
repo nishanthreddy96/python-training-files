{
 "cells": [
  {
   "cell_type": "code",
   "execution_count": 6,
   "metadata": {},
   "outputs": [
    {
     "name": "stdout",
     "output_type": "stream",
     "text": [
      "enter list length2\n",
      "2\n",
      "1\n",
      "[2, 1]\n",
      "Enter a number to check the number is present or not\n",
      "2\n",
      "number is not available\n"
     ]
    }
   ],
   "source": [
    "ls = []\n",
    "name = int(input(\"enter list length\"))\n",
    "for i in range(name):\n",
    "    try:\n",
    "        data = int(input())\n",
    "        ls.append(data)\n",
    "    except ValueError:\n",
    "        print(\"Provide some values\")\n",
    "print(ls)\n",
    "print(\"Enter a number to check the number is present or not\")\n",
    "num_check = int(input())\n",
    "try:\n",
    "   # for x in ls:\n",
    "    if num_check == x:\n",
    "        print(\"Number is available \")\n",
    "    else:\n",
    "        print(\"number is not available\")\n",
    "except TypeError:\n",
    "    print(\"recheck\")\n"
   ]
  },
  {
   "cell_type": "markdown",
   "metadata": {},
   "source": [
    "\n"
   ]
  }
 ],
 "metadata": {
  "kernelspec": {
   "display_name": "Python 3",
   "language": "python",
   "name": "python3"
  },
  "language_info": {
   "codemirror_mode": {
    "name": "ipython",
    "version": 3
   },
   "file_extension": ".py",
   "mimetype": "text/x-python",
   "name": "python",
   "nbconvert_exporter": "python",
   "pygments_lexer": "ipython3",
   "version": "3.7.3"
  }
 },
 "nbformat": 4,
 "nbformat_minor": 2
}
