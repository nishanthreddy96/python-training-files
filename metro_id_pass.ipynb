{
 "cells": [
  {
   "cell_type": "code",
   "execution_count": null,
   "metadata": {},
   "outputs": [
    {
     "name": "stdout",
     "output_type": "stream",
     "text": [
      "scan your metro card or enter the number present on metro card\n",
      "6281163524\n",
      "Validating card details\n",
      "processing request for recharge\n",
      "\n",
      " please enter the amount to topup\n"
     ]
    }
   ],
   "source": [
    "database = [6281163528,8919445056,8978921412,9063412992]\n",
    "def recharge_metro_card(id,amount):\n",
    "    scanning = input(\"scan your metro card or enter the number present on metro card\\n\")\n",
    "    print(\"Validating card details\") \n",
    "    for scanning in database:\n",
    "        print(\"processing request for recharge\")\n",
    "        amount = input(print(\"\\n please enter the amount to topup\"))\n",
    "        print(\"the amount {} has been sucessfully added to {} card\".format(amount,id))\n",
    "        break\n",
    "    else:\n",
    "        print(\"Invalid id or number\")\n",
    "        print(\"please try again\")\n",
    "recharge_metro_card(22232223,100)"
   ]
  },
  {
   "cell_type": "code",
   "execution_count": null,
   "metadata": {},
   "outputs": [],
   "source": []
  }
 ],
 "metadata": {
  "kernelspec": {
   "display_name": "Python 3",
   "language": "python",
   "name": "python3"
  },
  "language_info": {
   "codemirror_mode": {
    "name": "ipython",
    "version": 3
   },
   "file_extension": ".py",
   "mimetype": "text/x-python",
   "name": "python",
   "nbconvert_exporter": "python",
   "pygments_lexer": "ipython3",
   "version": "3.7.3"
  }
 },
 "nbformat": 4,
 "nbformat_minor": 2
}
