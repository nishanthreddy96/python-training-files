{
 "cells": [
  {
   "cell_type": "code",
   "execution_count": 1,
   "metadata": {},
   "outputs": [
    {
     "name": "stdout",
     "output_type": "stream",
     "text": [
      "\n",
      " Guide Name is Bobby\n",
      "\n",
      " Guide Type is Male\n"
     ]
    }
   ],
   "source": [
    "def desc_pet(Guide_name,Guide_gender):\n",
    "    \"\"\"Tour Guide\"\"\"\n",
    "    print(\"\\n Guide Name is {}\".format(Guide_name))\n",
    "    print(\"\\n Guide Type is {}\".format(Guide_gender))\n",
    "desc_pet(\"Bobby\",\"Male\")"
   ]
  },
  {
   "cell_type": "code",
   "execution_count": 5,
   "metadata": {},
   "outputs": [
    {
     "name": "stdout",
     "output_type": "stream",
     "text": [
      "\n",
      " guide name is bobby\n",
      "\n",
      " guide type is trained\n"
     ]
    }
   ],
   "source": [
    "def guide_type(x,y):\n",
    "    \"\"\"info of guide\"\"\"\n",
    "    print(\"\\n guide name is {}\".format(x))\n",
    "    print(\"\\n guide type is {}\".format(y))\n",
    "guide_type(x=\"bobby\",y=\"trained\")"
   ]
  },
  {
   "cell_type": "code",
   "execution_count": 6,
   "metadata": {},
   "outputs": [
    {
     "name": "stdout",
     "output_type": "stream",
     "text": [
      "S.S Thaman\n"
     ]
    }
   ],
   "source": [
    "def get_formatted_name(firstname,lastname):\n",
    "    \"\"\"returning full name neatly formatted\"\"\"\n",
    "    fullname = f\"{firstname} {lastname}\"\n",
    "    return fullname.title()\n",
    "\n",
    "musician = get_formatted_name(\"S.S\",\"thaman\")\n",
    "print(musician)"
   ]
  },
  {
   "cell_type": "code",
   "execution_count": null,
   "metadata": {},
   "outputs": [],
   "source": [
    "def user_inp(id,password):\n",
    "    \"\"\"gathering user details\"\"\"\n",
    "    id = int(input(\"enter you identity number\").title())\n",
    "    password = eval(input(\"enter your password with quotations\"))\n",
    "    print(\"the id is {} and the password is {}\".format(id,password))\n",
    "    \n",
    "user_inp(id,'password')\n",
    "\n",
    "print(user_inp(121,'reere'))"
   ]
  },
  {
   "cell_type": "code",
   "execution_count": null,
   "metadata": {},
   "outputs": [],
   "source": []
  }
 ],
 "metadata": {
  "kernelspec": {
   "display_name": "Python 3",
   "language": "python",
   "name": "python3"
  },
  "language_info": {
   "codemirror_mode": {
    "name": "ipython",
    "version": 3
   },
   "file_extension": ".py",
   "mimetype": "text/x-python",
   "name": "python",
   "nbconvert_exporter": "python",
   "pygments_lexer": "ipython3",
   "version": "3.7.3"
  }
 },
 "nbformat": 4,
 "nbformat_minor": 2
}
