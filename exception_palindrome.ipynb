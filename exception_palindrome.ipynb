{
 "cells": [
  {
   "cell_type": "code",
   "execution_count": 17,
   "metadata": {},
   "outputs": [
    {
     "name": "stdout",
     "output_type": "stream",
     "text": [
      "enter a number to check palindrome\n",
      " is palindrome\n"
     ]
    }
   ],
   "source": [
    "try:\n",
    "    palin = input(\"enter a number to check palindrome\")\n",
    "    rev = ''.join(reversed(palin))\n",
    "    if rev == palin:\n",
    "        print(\"{} is palindrome\".format(palin))\n",
    "    else:\n",
    "        print(\"{} is not palindrome\".format(palin))\n",
    "except ValueError:\n",
    "    print(\"error\")"
   ]
  },
  {
   "cell_type": "code",
   "execution_count": null,
   "metadata": {},
   "outputs": [],
   "source": []
  },
  {
   "cell_type": "code",
   "execution_count": null,
   "metadata": {},
   "outputs": [],
   "source": [
    "def nume():\n",
    "    print(\"control unit\")\n",
    "    cont_abc()\n",
    "def cont_abc():\n",
    "    cont_1 = input(\"command input\")\n",
    "    try:\n",
    "        if cont_1 == 'right':\n",
    "            next_screen()\n",
    "        else:\n",
    "            print('right')\n",
    "            cont_abc()\n",
    "    except Exception as ex:\n",
    "        print(ex)\n",
    "cont_abc()"
   ]
  },
  {
   "cell_type": "code",
   "execution_count": 12,
   "metadata": {},
   "outputs": [
    {
     "name": "stdout",
     "output_type": "stream",
     "text": [
      "enter values0.5 'as' 4\n",
      "the value is  0\n",
      "invalid input\n",
      "the value is  .\n",
      "invalid input\n",
      "the value is  5\n",
      "the reciprocal of 5 is 0.2\n"
     ]
    }
   ],
   "source": [
    "in_values = []\n",
    "in_values = input(\"enter values\")\n",
    "for num in in_values:\n",
    "    try:\n",
    "        print(\"the value is \",num)\n",
    "        r = 1/int(num)\n",
    "        break\n",
    "    except (ZeroDivisionError,ValueError):\n",
    "        print(\"invalid input\")\n",
    "    except:\n",
    "        print(\"Ooooh\",sys.exc_info()[0],\"occured\")\n",
    "        print(\"Next entry\")\n",
    "        print()\n",
    "print(\"the reciprocal of\",num,\"is\",r)"
   ]
  },
  {
   "cell_type": "code",
   "execution_count": null,
   "metadata": {},
   "outputs": [],
   "source": []
  }
 ],
 "metadata": {
  "kernelspec": {
   "display_name": "Python 3",
   "language": "python",
   "name": "python3"
  },
  "language_info": {
   "codemirror_mode": {
    "name": "ipython",
    "version": 3
   },
   "file_extension": ".py",
   "mimetype": "text/x-python",
   "name": "python",
   "nbconvert_exporter": "python",
   "pygments_lexer": "ipython3",
   "version": "3.7.3"
  }
 },
 "nbformat": 4,
 "nbformat_minor": 2
}
