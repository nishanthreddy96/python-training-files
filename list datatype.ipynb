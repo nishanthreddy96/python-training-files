{
 "cells": [
  {
   "cell_type": "code",
   "execution_count": 6,
   "metadata": {},
   "outputs": [
    {
     "name": "stdout",
     "output_type": "stream",
     "text": [
      "1  2  3  4  5  "
     ]
    }
   ],
   "source": [
    "list=[1,2,3,4,5]\n",
    "#list=int(input(\"enter series of numbers\"))\n",
    "for i in list:\n",
    "    print(i,end='  ')"
   ]
  },
  {
   "cell_type": "code",
   "execution_count": null,
   "metadata": {},
   "outputs": [],
   "source": [
    "#list=int(input(\"enter elements in sequence\"))\n",
    "input_to_add=[int(x) for x in input(\"enter numbers in sequence\").split()]\n",
    "print(input_to_add)\n",
    "print(sum(input_to_add))"
   ]
  },
  {
   "cell_type": "code",
   "execution_count": 5,
   "metadata": {},
   "outputs": [
    {
     "name": "stdout",
     "output_type": "stream",
     "text": [
      "[1, 2, 3, 4]\n"
     ]
    }
   ],
   "source": [
    "list=[1,2,3,4]\n",
    "count=0\n",
    "while count == 0:\n",
    "    print(list)\n",
    "    count = count+1"
   ]
  },
  {
   "cell_type": "code",
   "execution_count": 55,
   "metadata": {},
   "outputs": [
    {
     "name": "stdout",
     "output_type": "stream",
     "text": [
      "['echo', 'jager', 'smoke']\n",
      "jackal\n",
      "blitz\n",
      "caveria\n"
     ]
    }
   ],
   "source": [
    "list=['anoop','gridlock','nokk','ash',['jackal','blitz','caveria'],['echo','jager','smoke']]\n",
    "print(list[5])\n",
    "for x in list[4]:\n",
    "    print(x)"
   ]
  },
  {
   "cell_type": "code",
   "execution_count": 91,
   "metadata": {},
   "outputs": [
    {
     "name": "stdout",
     "output_type": "stream",
     "text": [
      " enter the word which you want to display  mute\n",
      "enter valid word\n"
     ]
    }
   ],
   "source": [
    "l = ['anoop','gridlock','nokk','ash',['jackal','blitz','caveria'],['echo','jager','smoke']]\n",
    "inval = str(input(\" enter the word which you want to display  \"))\n",
    "if inval in l:\n",
    "    print(\"the word is {}\".format(inval))\n",
    "else:\n",
    "    print(\"enter valid word\")"
   ]
  },
  {
   "cell_type": "code",
   "execution_count": 82,
   "metadata": {},
   "outputs": [
    {
     "name": "stdout",
     "output_type": "stream",
     "text": [
      "caveria\n"
     ]
    }
   ],
   "source": [
    "l = ['anoop','gridlock','nokk','ash',['jackal','blitz','caveria'],['echo','jager','smoke']]\n",
    "print(l[4][2])"
   ]
  },
  {
   "cell_type": "code",
   "execution_count": null,
   "metadata": {},
   "outputs": [],
   "source": []
  }
 ],
 "metadata": {
  "kernelspec": {
   "display_name": "Python 3",
   "language": "python",
   "name": "python3"
  },
  "language_info": {
   "codemirror_mode": {
    "name": "ipython",
    "version": 3
   },
   "file_extension": ".py",
   "mimetype": "text/x-python",
   "name": "python",
   "nbconvert_exporter": "python",
   "pygments_lexer": "ipython3",
   "version": "3.7.3"
  }
 },
 "nbformat": 4,
 "nbformat_minor": 2
}
